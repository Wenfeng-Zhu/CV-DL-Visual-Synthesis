{
 "cells": [
  {
   "cell_type": "markdown",
   "metadata": {
    "collapsed": true
   },
   "source": [
    "## Exercise-2\n",
    "\n",
    "Wenfeng Zhu-Computer Vision and Deep Learning: Visual Synthesis"
   ]
  },
  {
   "cell_type": "markdown",
   "metadata": {},
   "source": [
    "### Task-1: Linear Least Squares"
   ]
  },
  {
   "cell_type": "markdown",
   "metadata": {},
   "source": [
    "1. **Derive the following formula for the minimizer w∗ of L**"
   ]
  },
  {
   "cell_type": "markdown",
   "metadata": {},
   "source": [
    "As shown in the task description, the loss function of w is:\n",
    "$$\n",
    "L(w)= \\frac 12||X_w-y||_2^2\n",
    "$$\n",
    "So we have to take the first order partial derivative of the function and make the partial derivative 0.\\\n",
    "And its corresponding norm operation can be transformed into:\n",
    "$$\n",
    "L(w)= \\frac 12(Xw-y)^T(Xw-y)\n",
    "$$\n",
    "The derivative of this equation and make it to be 0:\n",
    "$$\n",
    "\\frac {d}{dw} L(w)= X^T(Xw-y)=0\n",
    "$$\n",
    "Then we get:\n",
    "$$\n",
    "X^TXw=X^Ty\n",
    "$$\n",
    "We know that $ X^TX $ is  square matrix and its multiplication by its own inverse matrix is the unit matrix, so we can conclude that:\n",
    "$$\n",
    "w^* = (X^TX)^{-1}X^Ty\n",
    "$$"
   ]
  },
  {
   "cell_type": "markdown",
   "metadata": {},
   "source": [
    "2. **Implement the computation of w∗ in the fit method of LinearLeastSquares in the file task1.py.**"
   ]
  },
  {
   "cell_type": "code",
   "execution_count": null,
   "metadata": {},
   "outputs": [],
   "source": []
  }
 ],
 "metadata": {
  "kernelspec": {
   "display_name": "Python 3 (ipykernel)",
   "language": "python",
   "name": "python3"
  },
  "language_info": {
   "codemirror_mode": {
    "name": "ipython",
    "version": 3
   },
   "file_extension": ".py",
   "mimetype": "text/x-python",
   "name": "python",
   "nbconvert_exporter": "python",
   "pygments_lexer": "ipython3",
   "version": "3.9.7"
  }
 },
 "nbformat": 4,
 "nbformat_minor": 1
}
