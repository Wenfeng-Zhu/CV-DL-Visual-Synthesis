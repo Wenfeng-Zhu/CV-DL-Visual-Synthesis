{
 "cells": [
  {
   "cell_type": "markdown",
   "source": [
    "## Exercise-4\n",
    "\n",
    "Wenfeng Zhu-Computer Vision and Deep Learning: Visual Synthesis"
   ],
   "metadata": {
    "collapsed": false,
    "pycharm": {
     "name": "#%% md\n"
    }
   }
  },
  {
   "cell_type": "markdown",
   "source": [
    "**Import the necessary libraries**"
   ],
   "metadata": {
    "collapsed": false,
    "pycharm": {
     "name": "#%% md\n"
    }
   }
  },
  {
   "cell_type": "code",
   "execution_count": 2,
   "outputs": [],
   "source": [
    "import numpy as np\n",
    "import torch\n",
    "from torch import nn\n",
    "import matplotlib.pyplot as plt\n",
    "import torch.nn.functional as F"
   ],
   "metadata": {
    "collapsed": false,
    "pycharm": {
     "name": "#%%\n"
    }
   }
  },
  {
   "cell_type": "markdown",
   "source": [
    "### Task 1: Convolutions Revisited"
   ],
   "metadata": {
    "collapsed": false,
    "pycharm": {
     "name": "#%% md\n"
    }
   }
  },
  {
   "cell_type": "markdown",
   "source": [
    "1. **Gaining Intuition**\n",
    "**(a) Stride=1 and padding=0: Calculate by hand the output of the first depth-slice of the convolution filter followed by a ReLU activation function. (1P)**\n",
    "**(b) Repeat (a) but use a stride of 2. (1P)**"
   ],
   "metadata": {
    "collapsed": false,
    "pycharm": {
     "name": "#%% md\n"
    }
   }
  },
  {
   "cell_type": "markdown",
   "source": [
    "The input image:\n",
    "$$\\begin{bmatrix}1.& 0.& 0. &1. &1. \\\\ 0. &1. &0. &0. &0.\\\\ 0. &0. &0. &1. &0.\\\\1.& 0.& 0.& 0.& 1.\\\\1. &0.& 0.& 0.& 0. \\end{bmatrix}$$\n",
    "The 1. depth-slice:\n",
    "$$r = \\begin{bmatrix}1. & 0. \\\\ 0. & 1.\\\\ \\end{bmatrix}$$\n",
    "So stride=1 and padding=0 followed by a ReLU activation function:\n",
    "$$\\begin{bmatrix}1.& 0.& 0. &0.\\\\ 0. &0. &0. &0.\\\\ 0. &0. &0. &1.\\\\0.& 0.& 0.& 0. \\end{bmatrix}$$\n",
    "So stride=2 and padding=0 followed by a ReLU activation function:\n",
    "$$\\begin{bmatrix}1. & 0. \\\\ 0. & 0.\\\\ \\end{bmatrix}$$"
   ],
   "metadata": {
    "collapsed": false,
    "pycharm": {
     "name": "#%% md\n"
    }
   }
  },
  {
   "cell_type": "code",
   "execution_count": 4,
   "outputs": [
    {
     "name": "stdout",
     "output_type": "stream",
     "text": [
      "weight: torch.Size([3, 1, 2, 2]) bias: torch.Size([3])\n"
     ]
    },
    {
     "data": {
      "text/plain": "<Figure size 432x288 with 1 Axes>",
      "image/png": "[encoded data removed]"
     },
     "metadata": {
      "needs_background": "light"
     },
     "output_type": "display_data"
    },
    {
     "data": {
      "text/plain": "<Figure size 432x288 with 1 Axes>",
      "image/png": "[encoded data removed]"
     },
     "metadata": {
      "needs_background": "light"
     },
     "output_type": "display_data"
    }
   ],
   "source": [
    "def task_1():\n",
    "    input_img = torch.tensor(np.array([[[1., 0., 0., 1., 1.],\n",
    "                                        [0., 1., 0., 0., 0.],\n",
    "                                        [0., 0., 0., 1., 0.],\n",
    "                                        [1., 0., 0., 0., 1.],\n",
    "                                        [1., 0., 0., 0., 0.]]]))\n",
    "    w = torch.tensor(np.array([[[[1., 0.], [0., 1.]]],\n",
    "                               [[[1., 0.], [1., 0.]]],\n",
    "                               [[[1., 1.], [0., 0.]]]]))\n",
    "    bias = torch.tensor([-1., -1., -1.])\n",
    "    conv = nn.Conv2d(in_channels=1, out_channels=3, kernel_size=(2, 2), bias=True, )\n",
    "    with torch.no_grad():\n",
    "        conv.weight = nn.Parameter(w)\n",
    "        conv.bias = nn.Parameter(bias)\n",
    "        print(\"weight:\", conv.weight.size(), \"bias:\", conv.bias.size())\n",
    "        pass\n",
    "\n",
    "    output = F.relu(conv(input_img))\n",
    "    output_img = output.permute(1, 2, 0).detach().numpy()\n",
    "    plt.imshow(output_img)\n",
    "    plt.title(\"output image of stride=1 and padding=0\")\n",
    "    plt.show()\n",
    "\n",
    "    conv.stride = 2\n",
    "    output = F.relu(conv(input_img))\n",
    "    output_img = output.permute(1, 2, 0).detach().numpy()\n",
    "    plt.imshow(output_img)\n",
    "    plt.title(\"output image of stride=2 and padding=0\")\n",
    "    plt.show()\n",
    "\n",
    "\n",
    "task_1()"
   ],
   "metadata": {
    "collapsed": false,
    "pycharm": {
     "name": "#%%\n"
    }
   }
  },
  {
   "cell_type": "markdown",
   "source": [
    "### Task 2: Receptive field"
   ],
   "metadata": {
    "collapsed": false,
    "pycharm": {
     "name": "#%% md\n"
    }
   }
  },
  {
   "cell_type": "markdown",
   "source": [
    "1. **Calculate the receptive field of a neuron in the third layer of a CNN that consists of convolution layers with a kernel size of (3, 3) and a stride of 1. (1P)**"
   ],
   "metadata": {
    "collapsed": false,
    "pycharm": {
     "name": "#%% md\n"
    }
   }
  },
  {
   "cell_type": "markdown",
   "source": [
    "The receptive field of neuron in the third layer is : **7**"
   ],
   "metadata": {
    "collapsed": false,
    "pycharm": {
     "name": "#%% md\n"
    }
   }
  },
  {
   "cell_type": "markdown",
   "source": [
    "2. **Calculate the receptive field of a neuron in the second layer of a CNN where each convolution layer has a kernel size of (4,4) and a stride of 2. (1P)**"
   ],
   "metadata": {
    "collapsed": false,
    "pycharm": {
     "name": "#%% md\n"
    }
   }
  },
  {
   "cell_type": "markdown",
   "source": [
    "The receptive field of neuron in the second layer is : **10**"
   ],
   "metadata": {
    "collapsed": false,
    "pycharm": {
     "name": "#%% md\n"
    }
   }
  },
  {
   "cell_type": "markdown",
   "source": [
    "3. **Derive the general formula for the receptive field for a neuron in the n-th layer in terms of kernel size and stride of the relevant layers. (2P)**"
   ],
   "metadata": {
    "collapsed": false,
    "pycharm": {
     "name": "#%% md\n"
    }
   }
  },
  {
   "cell_type": "markdown",
   "source": [
    "The formula for feeling the field can be obtained:\n",
    "$$\n",
    "r_n = r_{n-1} + (k_n-1)\\prod_{i = 1}^{n-1}s_i\n",
    "$$\n",
    "Among of them, $r_n$ and $r_{n-1}$ are the receptive fields of the n-th and n-1-th CNN layer, $k_n$ is the kernel size of n-th layer and $s_i$ the  stride of each layer"
   ],
   "metadata": {
    "collapsed": false,
    "pycharm": {
     "name": "#%% md\n"
    }
   }
  },
  {
   "cell_type": "code",
   "execution_count": null,
   "outputs": [],
   "source": [],
   "metadata": {
    "collapsed": false,
    "pycharm": {
     "name": "#%%\n"
    }
   }
  }
 ],
 "metadata": {
  "kernelspec": {
   "display_name": "Python 3",
   "language": "python",
   "name": "python3"
  },
  "language_info": {
   "codemirror_mode": {
    "name": "ipython",
    "version": 2
   },
   "file_extension": ".py",
   "mimetype": "text/x-python",
   "name": "python",
   "nbconvert_exporter": "python",
   "pygments_lexer": "ipython2",
   "version": "2.7.6"
  }
 },
 "nbformat": 4,
 "nbformat_minor": 0
}