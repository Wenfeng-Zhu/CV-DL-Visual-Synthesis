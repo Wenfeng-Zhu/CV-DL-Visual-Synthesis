{
 "cells": [
  {
   "cell_type": "markdown",
   "source": [
    "## Exercise-4\n",
    "\n",
    "Wenfeng Zhu-Computer Vision and Deep Learning: Visual Synthesis"
   ],
   "metadata": {
    "collapsed": false,
    "pycharm": {
     "name": "#%% md\n"
    }
   }
  },
  {
   "cell_type": "markdown",
   "source": [
    "**Import the necessary libraries**"
   ],
   "metadata": {
    "collapsed": false,
    "pycharm": {
     "name": "#%% md\n"
    }
   }
  },
  {
   "cell_type": "code",
   "execution_count": 1,
   "outputs": [],
   "source": [
    "import torchvision\n",
    "from torchvision import datasets\n",
    "import torchvision.transforms as transforms\n",
    "import torch.nn as nn\n",
    "from torch.utils.data import DataLoader\n",
    "from tqdm.auto import tqdm\n",
    "import torch.optim as optim\n",
    "import torch.nn.functional as F\n",
    "import torch\n",
    "import matplotlib.pyplot as plt\n",
    "from mpl_toolkits.axes_grid1 import ImageGrid"
   ],
   "metadata": {
    "collapsed": false,
    "pycharm": {
     "name": "#%%\n"
    }
   }
  },
  {
   "cell_type": "markdown",
   "source": [
    "### Task 1: Convolutions Revisited"
   ],
   "metadata": {
    "collapsed": false,
    "pycharm": {
     "name": "#%% md\n"
    }
   }
  },
  {
   "cell_type": "markdown",
   "source": [
    "1. **Gaining Intuition**\n",
    "**(a) Stride=1 and padding=0: Calculate by hand the output of the first depth-slice of the convolution filter followed by a ReLU activation function. (1P)**\n",
    "**(b) Repeat (a) but use a stride of 2. (1P)**"
   ],
   "metadata": {
    "collapsed": false,
    "pycharm": {
     "name": "#%% md\n"
    }
   }
  },
  {
   "cell_type": "markdown",
   "source": [
    "The input image:\n",
    "$$\\begin{bmatrix}1.& 0.& 0. &1. &1. \\\\ 0. &1. &0. &0. &0.\\\\ 0. &0. &0. &1. &0.\\\\1.& 0.& 0.& 0.& 1.\\\\1. &0.& 0.& 0.& 0. \\end{bmatrix}$$\n",
    "The 1. depth-slice:\n",
    "$$r = \\begin{bmatrix}1. & 0. \\\\ 0. & 1.\\\\ \\end{bmatrix}$$\n",
    "So stride=1 and padding=0 followed by a ReLU activation function:\n",
    "$$\\begin{bmatrix}1.& 0.& 0. &0.\\\\ 0. &0. &0. &0.\\\\ 0. &0. &0. &1.\\\\0.& 0.& 0.& 0. \\end{bmatrix}$$\n",
    "So stride=2 and padding=0 followed by a ReLU activation function:\n",
    "$$\\begin{bmatrix}1. & 0. \\\\ 0. & 0.\\\\ \\end{bmatrix}$$"
   ],
   "metadata": {
    "collapsed": false,
    "pycharm": {
     "name": "#%% md\n"
    }
   }
  },
  {
   "cell_type": "code",
   "execution_count": 3,
   "outputs": [
    {
     "name": "stdout",
     "output_type": "stream",
     "text": [
      "weight: torch.Size([3, 1, 2, 2]) bias: torch.Size([3])\n"
     ]
    },
    {
     "data": {
      "text/plain": "<Figure size 432x288 with 1 Axes>",
      "image/png": "[encoded data removed]"
     },
     "metadata": {
      "needs_background": "light"
     },
     "output_type": "display_data"
    },
    {
     "data": {
      "text/plain": "<Figure size 432x288 with 1 Axes>",
      "image/png": "[encoded data removed]"
     },
     "metadata": {
      "needs_background": "light"
     },
     "output_type": "display_data"
    }
   ],
   "source": [
    "def task_1():\n",
    "    input_img = torch.tensor([[[1., 0., 0., 1., 1.],\n",
    "                                        [0., 1., 0., 0., 0.],\n",
    "                                        [0., 0., 0., 1., 0.],\n",
    "                                        [1., 0., 0., 0., 1.],\n",
    "                                        [1., 0., 0., 0., 0.]]])\n",
    "    w = torch.tensor([[[[1., 0.], [0., 1.]]],\n",
    "                               [[[1., 0.], [1., 0.]]],\n",
    "                               [[[1., 1.], [0., 0.]]]])\n",
    "    bias = torch.tensor([-1., -1., -1.])\n",
    "    conv = nn.Conv2d(in_channels=1, out_channels=3, kernel_size=(2, 2), bias=True, )\n",
    "    with torch.no_grad():\n",
    "        conv.weight = nn.Parameter(w)\n",
    "        conv.bias = nn.Parameter(bias)\n",
    "        print(\"weight:\", conv.weight.size(), \"bias:\", conv.bias.size())\n",
    "        pass\n",
    "\n",
    "    output = F.relu(conv(input_img))\n",
    "    output_img = output.permute(1, 2, 0).detach().numpy()\n",
    "    plt.imshow(output_img)\n",
    "    plt.title(\"output image of stride=1 and padding=0\")\n",
    "    plt.show()\n",
    "\n",
    "    conv.stride = 2\n",
    "    output = F.relu(conv(input_img))\n",
    "    output_img = output.permute(1, 2, 0).detach().numpy()\n",
    "    plt.imshow(output_img)\n",
    "    plt.title(\"output image of stride=2 and padding=0\")\n",
    "    plt.show()\n",
    "\n",
    "\n",
    "task_1()"
   ],
   "metadata": {
    "collapsed": false,
    "pycharm": {
     "name": "#%%\n"
    }
   }
  },
  {
   "cell_type": "markdown",
   "source": [
    "### Task 2: Receptive field"
   ],
   "metadata": {
    "collapsed": false,
    "pycharm": {
     "name": "#%% md\n"
    }
   }
  },
  {
   "cell_type": "markdown",
   "source": [
    "1. **Calculate the receptive field of a neuron in the third layer of a CNN that consists of convolution layers with a kernel size of (3, 3) and a stride of 1. (1P)**"
   ],
   "metadata": {
    "collapsed": false,
    "pycharm": {
     "name": "#%% md\n"
    }
   }
  },
  {
   "cell_type": "markdown",
   "source": [
    "The receptive field of neuron in the third layer is : **7**"
   ],
   "metadata": {
    "collapsed": false,
    "pycharm": {
     "name": "#%% md\n"
    }
   }
  },
  {
   "cell_type": "markdown",
   "source": [
    "2. **Calculate the receptive field of a neuron in the second layer of a CNN where each convolution layer has a kernel size of (4,4) and a stride of 2. (1P)**"
   ],
   "metadata": {
    "collapsed": false,
    "pycharm": {
     "name": "#%% md\n"
    }
   }
  },
  {
   "cell_type": "markdown",
   "source": [
    "The receptive field of neuron in the second layer is : **10**"
   ],
   "metadata": {
    "collapsed": false,
    "pycharm": {
     "name": "#%% md\n"
    }
   }
  },
  {
   "cell_type": "markdown",
   "source": [
    "3. **Derive the general formula for the receptive field for a neuron in the n-th layer in terms of kernel size and stride of the relevant layers. (2P)**"
   ],
   "metadata": {
    "collapsed": false,
    "pycharm": {
     "name": "#%% md\n"
    }
   }
  },
  {
   "cell_type": "markdown",
   "source": [
    "The formula for feeling the field can be obtained:\n",
    "$$\n",
    "r_n = r_{n-1} + (k_n-1)\\prod_{i = 1}^{n-1}s_i\n",
    "$$\n",
    "Among of them, $r_n$ and $r_{n-1}$ are the receptive fields of the n-th and n-1-th CNN layer, $k_n$ is the kernel size of n-th layer and $s_i$ the  stride of each layer"
   ],
   "metadata": {
    "collapsed": false,
    "pycharm": {
     "name": "#%% md\n"
    }
   }
  },
  {
   "cell_type": "markdown",
   "source": [
    "### Task 3: Classification of Mnist with CNNs"
   ],
   "metadata": {
    "collapsed": false,
    "pycharm": {
     "name": "#%% md\n"
    }
   }
  },
  {
   "cell_type": "markdown",
   "source": [
    "1. **CNN-Architecture Complete the init method of the ConvolutionalNetwork in task2.py by setting the padding , stride and kernelsize arguments such that each layer outputs a tensor of the spatial dimension defined in the code comment. Furthermore, you need to define infeatures of the first fully connected layer. (3P)**\n",
    "2. **Forwardpass and Training Implement the forward pass of the ConvolutionalNetwork by using Relu activations and the network layers\n",
    "defined in the init method. Train the network for at least 3 epochs and report the test accuracy. (3P)**\n",
    "3. **Batch normalization Extend the network architecture with a batch normalization layer after each convolutional layer and modify the forward pass such that batch normalization is used when the normalization attribute is true. Train the network with batch normalization, report the test accuracy and comment on the effect of batch normalization. (2P)**"
   ],
   "metadata": {
    "collapsed": false,
    "pycharm": {
     "name": "#%% md\n"
    }
   }
  },
  {
   "cell_type": "code",
   "execution_count": 9,
   "outputs": [
    {
     "data": {
      "text/plain": "Batch:   0%|          | 0/3750 [00:00<?, ?it/s]",
      "application/vnd.jupyter.widget-view+json": {
       "version_major": 2,
       "version_minor": 0,
       "model_id": "c5b09226869a46c0b3c87e06627a3b3d"
      }
     },
     "metadata": {},
     "output_type": "display_data"
    },
    {
     "data": {
      "text/plain": "Test:   0%|          | 0/625 [00:00<?, ?it/s]",
      "application/vnd.jupyter.widget-view+json": {
       "version_major": 2,
       "version_minor": 0,
       "model_id": "121aac34af92480e90799860eedcb181"
      }
     },
     "metadata": {},
     "output_type": "display_data"
    },
    {
     "name": "stdout",
     "output_type": "stream",
     "text": [
      "\n",
      " *** Summary: Epoch [1 / 5]  Test Accuracy: 0.9751999974250793***\n"
     ]
    },
    {
     "data": {
      "text/plain": "Batch:   0%|          | 0/3750 [00:00<?, ?it/s]",
      "application/vnd.jupyter.widget-view+json": {
       "version_major": 2,
       "version_minor": 0,
       "model_id": "67f8b452aa53481da1003061c4172482"
      }
     },
     "metadata": {},
     "output_type": "display_data"
    },
    {
     "data": {
      "text/plain": "Test:   0%|          | 0/625 [00:00<?, ?it/s]",
      "application/vnd.jupyter.widget-view+json": {
       "version_major": 2,
       "version_minor": 0,
       "model_id": "57905d41eb7d4f88b1a8cb3a0b720f0e"
      }
     },
     "metadata": {},
     "output_type": "display_data"
    },
    {
     "name": "stdout",
     "output_type": "stream",
     "text": [
      "\n",
      " *** Summary: Epoch [2 / 5]  Test Accuracy: 0.9856999516487122***\n"
     ]
    },
    {
     "data": {
      "text/plain": "Batch:   0%|          | 0/3750 [00:00<?, ?it/s]",
      "application/vnd.jupyter.widget-view+json": {
       "version_major": 2,
       "version_minor": 0,
       "model_id": "669a78c634744c8787cb26374c149436"
      }
     },
     "metadata": {},
     "output_type": "display_data"
    },
    {
     "data": {
      "text/plain": "Test:   0%|          | 0/625 [00:00<?, ?it/s]",
      "application/vnd.jupyter.widget-view+json": {
       "version_major": 2,
       "version_minor": 0,
       "model_id": "36019d29bf474d1dbe14f00daac33317"
      }
     },
     "metadata": {},
     "output_type": "display_data"
    },
    {
     "name": "stdout",
     "output_type": "stream",
     "text": [
      "\n",
      " *** Summary: Epoch [3 / 5]  Test Accuracy: 0.9850999712944031***\n"
     ]
    },
    {
     "data": {
      "text/plain": "Batch:   0%|          | 0/3750 [00:00<?, ?it/s]",
      "application/vnd.jupyter.widget-view+json": {
       "version_major": 2,
       "version_minor": 0,
       "model_id": "822c253d9e794f3f82f453045a030db7"
      }
     },
     "metadata": {},
     "output_type": "display_data"
    },
    {
     "data": {
      "text/plain": "Test:   0%|          | 0/625 [00:00<?, ?it/s]",
      "application/vnd.jupyter.widget-view+json": {
       "version_major": 2,
       "version_minor": 0,
       "model_id": "2ea35300d34e40c99fa4cc38a748f1c1"
      }
     },
     "metadata": {},
     "output_type": "display_data"
    },
    {
     "name": "stdout",
     "output_type": "stream",
     "text": [
      "\n",
      " *** Summary: Epoch [4 / 5]  Test Accuracy: 0.9857999682426453***\n"
     ]
    },
    {
     "data": {
      "text/plain": "Batch:   0%|          | 0/3750 [00:00<?, ?it/s]",
      "application/vnd.jupyter.widget-view+json": {
       "version_major": 2,
       "version_minor": 0,
       "model_id": "9f0a95cef2fc464189e31351e19c49cc"
      }
     },
     "metadata": {},
     "output_type": "display_data"
    },
    {
     "data": {
      "text/plain": "Test:   0%|          | 0/625 [00:00<?, ?it/s]",
      "application/vnd.jupyter.widget-view+json": {
       "version_major": 2,
       "version_minor": 0,
       "model_id": "faf60746feeb4bedafe9d2613fabbfa4"
      }
     },
     "metadata": {},
     "output_type": "display_data"
    },
    {
     "name": "stdout",
     "output_type": "stream",
     "text": [
      "\n",
      " *** Summary: Epoch [5 / 5]  Test Accuracy: 0.9828999638557434***\n",
      "The result after normalization:\n",
      "\n"
     ]
    },
    {
     "data": {
      "text/plain": "Batch:   0%|          | 0/3750 [00:00<?, ?it/s]",
      "application/vnd.jupyter.widget-view+json": {
       "version_major": 2,
       "version_minor": 0,
       "model_id": "6b0a544e1aca4c278eeb35dc1ebfcd9c"
      }
     },
     "metadata": {},
     "output_type": "display_data"
    },
    {
     "data": {
      "text/plain": "Test:   0%|          | 0/625 [00:00<?, ?it/s]",
      "application/vnd.jupyter.widget-view+json": {
       "version_major": 2,
       "version_minor": 0,
       "model_id": "b9f37bfaefcc4ce8919f9b5b556cf2cb"
      }
     },
     "metadata": {},
     "output_type": "display_data"
    },
    {
     "name": "stdout",
     "output_type": "stream",
     "text": [
      "\n",
      " *** Summary: Epoch [1 / 5]  Test Accuracy: 0.979699969291687***\n"
     ]
    },
    {
     "data": {
      "text/plain": "Batch:   0%|          | 0/3750 [00:00<?, ?it/s]",
      "application/vnd.jupyter.widget-view+json": {
       "version_major": 2,
       "version_minor": 0,
       "model_id": "3c7c5af42c1847e690af31d26db85e38"
      }
     },
     "metadata": {},
     "output_type": "display_data"
    },
    {
     "data": {
      "text/plain": "Test:   0%|          | 0/625 [00:00<?, ?it/s]",
      "application/vnd.jupyter.widget-view+json": {
       "version_major": 2,
       "version_minor": 0,
       "model_id": "4f542ad6548f420998b906874886439a"
      }
     },
     "metadata": {},
     "output_type": "display_data"
    },
    {
     "name": "stdout",
     "output_type": "stream",
     "text": [
      "\n",
      " *** Summary: Epoch [2 / 5]  Test Accuracy: 0.9848999977111816***\n"
     ]
    },
    {
     "data": {
      "text/plain": "Batch:   0%|          | 0/3750 [00:00<?, ?it/s]",
      "application/vnd.jupyter.widget-view+json": {
       "version_major": 2,
       "version_minor": 0,
       "model_id": "34a42bd68424499588945b0fbfb530ad"
      }
     },
     "metadata": {},
     "output_type": "display_data"
    },
    {
     "data": {
      "text/plain": "Test:   0%|          | 0/625 [00:00<?, ?it/s]",
      "application/vnd.jupyter.widget-view+json": {
       "version_major": 2,
       "version_minor": 0,
       "model_id": "5262a8a7945a4c459f9a378964e43834"
      }
     },
     "metadata": {},
     "output_type": "display_data"
    },
    {
     "name": "stdout",
     "output_type": "stream",
     "text": [
      "\n",
      " *** Summary: Epoch [3 / 5]  Test Accuracy: 0.9868999719619751***\n"
     ]
    },
    {
     "data": {
      "text/plain": "Batch:   0%|          | 0/3750 [00:00<?, ?it/s]",
      "application/vnd.jupyter.widget-view+json": {
       "version_major": 2,
       "version_minor": 0,
       "model_id": "c895f75962ec4497b7acd90010015d79"
      }
     },
     "metadata": {},
     "output_type": "display_data"
    },
    {
     "data": {
      "text/plain": "Test:   0%|          | 0/625 [00:00<?, ?it/s]",
      "application/vnd.jupyter.widget-view+json": {
       "version_major": 2,
       "version_minor": 0,
       "model_id": "e0ffa6d7660b4c72b8d0e49edfa2ed9b"
      }
     },
     "metadata": {},
     "output_type": "display_data"
    },
    {
     "name": "stdout",
     "output_type": "stream",
     "text": [
      "\n",
      " *** Summary: Epoch [4 / 5]  Test Accuracy: 0.9850999712944031***\n"
     ]
    },
    {
     "data": {
      "text/plain": "Batch:   0%|          | 0/3750 [00:00<?, ?it/s]",
      "application/vnd.jupyter.widget-view+json": {
       "version_major": 2,
       "version_minor": 0,
       "model_id": "87f01bcc89df4e40b8a6322d66237908"
      }
     },
     "metadata": {},
     "output_type": "display_data"
    },
    {
     "data": {
      "text/plain": "Test:   0%|          | 0/625 [00:00<?, ?it/s]",
      "application/vnd.jupyter.widget-view+json": {
       "version_major": 2,
       "version_minor": 0,
       "model_id": "8a861bb076d3415ab7976bcc3ee7d09e"
      }
     },
     "metadata": {},
     "output_type": "display_data"
    },
    {
     "name": "stdout",
     "output_type": "stream",
     "text": [
      "\n",
      " *** Summary: Epoch [5 / 5]  Test Accuracy: 0.9860999584197998***\n"
     ]
    }
   ],
   "source": [
    "class ConvolutionalNetwork(nn.Module):\n",
    "    def __init__(self, normalization=False):\n",
    "        super().__init__()  # spatial dimension\n",
    "        self.normalization = normalization  # input   output\n",
    "        # convolution block\n",
    "        self.conv1 = nn.Conv2d(in_channels=1, out_channels=6, kernel_size=(5, 5), padding=0,\n",
    "                               stride=1)  # 28x28  ->  24x24\n",
    "        self.pool = nn.MaxPool2d(kernel_size=2, stride=2)  # 24x24  ->  12x12\n",
    "        self.conv2 = nn.Conv2d(6, 16, kernel_size=(5, 5), padding=0, stride=1)  # 12x12  ->  8x8\n",
    "        self.conv3 = nn.Conv2d(16, 32, kernel_size=(3, 3), padding=1, stride=1)  # 8x8 -> 8x8\n",
    "        self.pool2 = nn.MaxPool2d(kernel_size=2, stride=2)  # 8x8 -> 4x4\n",
    "        # fully connected block\n",
    "\n",
    "        self.fc1 = nn.Linear(in_features=32 * 16, out_features=120)\n",
    "        self.fc2 = nn.Linear(120, 84)\n",
    "        self.fc3 = nn.Linear(84, 10)\n",
    "\n",
    "        self.rule = nn.ReLU()\n",
    "\n",
    "    def forward(self, x):\n",
    "        # Implement the forward pass and use the layers in the order they were defined in the init method.\n",
    "        # Use Relu as the activation function\n",
    "        # Hint: you can use tensor.view() to reshape a tensor in pytorch\n",
    "        #########################\n",
    "        #### Your Code here  ####\n",
    "        #########################\n",
    "        # conv1 layer\n",
    "        out = self.rule(self.conv1(x))\n",
    "        # pool layer\n",
    "        out = self.pool(out)\n",
    "        # conv2 layer\n",
    "        out = self.rule(self.conv2(out))\n",
    "        # conv3 layer\n",
    "        out = self.rule(self.conv3(out))\n",
    "        # pool2 layer\n",
    "        out = self.pool2(out)\n",
    "\n",
    "        # reshape for the first fully connected layer\n",
    "        out = out.view(16, 1, -1)\n",
    "        # fc1 layer\n",
    "        out = self.rule(self.fc1(out))\n",
    "        # fc2 layer\n",
    "        out = self.rule(self.fc2(out))\n",
    "        # fc3 layer\n",
    "        out = self.fc3(out)\n",
    "        out = out.view(16, 10)\n",
    "        return out\n",
    "\n",
    "\n",
    "def get_data():\n",
    "    TrainData = datasets.MNIST(root=\"../data\", train=True, download=True, transform=transforms.ToTensor())\n",
    "    TestData = datasets.MNIST(root=\"../data\", train=False, download=True, transform=transforms.ToTensor())\n",
    "    train_dataloader = DataLoader(TrainData, batch_size=16, shuffle=True)\n",
    "    test_dataloader = DataLoader(TestData, batch_size=16, shuffle=False)\n",
    "    return train_dataloader, test_dataloader\n",
    "\n",
    "\n",
    "def class_label(prediction):\n",
    "    _, predicted_class = torch.max(prediction, 1)\n",
    "    return predicted_class\n",
    "\n",
    "\n",
    "def train_and_eval(n_epochs, normalization=False,\n",
    "                   use_gpu=False):  # if torch.cuda.is_available(), use gpu to speed up training\n",
    "    ConvNet = ConvolutionalNetwork(normalization=normalization)\n",
    "    Dl, testDl = get_data()\n",
    "\n",
    "    # Using Adam optimizer with learning rate 1e-4 and otherwise default\n",
    "    optimizer = optim.Adam(ConvNet.parameters(), lr=1e-3)\n",
    "    criterion = nn.CrossEntropyLoss()\n",
    "\n",
    "    if use_gpu:\n",
    "        ConvNet.cuda()\n",
    "        criterion.cuda()\n",
    "\n",
    "    for epoch in range(n_epochs):\n",
    "        ConvNet.train()  # train mode (matters for batchnorm layer, dropout, ...)\n",
    "        for step, [example, label] in enumerate(tqdm(Dl, desc='Batch')):\n",
    "            if use_gpu:\n",
    "                example, label = example.cuda(), label.cuda()\n",
    "\n",
    "            # reset gradient\n",
    "            optimizer.zero_grad()\n",
    "            prediction = ConvNet(example)  # todo change name\n",
    "            loss = criterion(prediction, label)\n",
    "            loss.backward()\n",
    "            optimizer.step()\n",
    "\n",
    "        # Now validate on the whole test set\n",
    "        correct = 0\n",
    "        total = 0\n",
    "        for idx, [test_example, test_label] in enumerate(tqdm(testDl, desc='Test')):\n",
    "            if use_gpu:\n",
    "                test_example, test_label = test_example.cuda(), test_label.cuda()\n",
    "\n",
    "            ConvNet.eval()  # eval mode (matters for batchnorm layer, dropout, ...)\n",
    "            with torch.no_grad():\n",
    "\n",
    "                test_prediction = ConvNet(test_example)\n",
    "                predicted_label = class_label(test_prediction)  # todo change name\n",
    "                correct += (predicted_label == test_label).sum()\n",
    "                total += test_label.size(0)\n",
    "\n",
    "        accuracy = correct / total\n",
    "        print(\"\\n *** Summary: Epoch [{} / {}]  Test Accuracy: {}***\".format(epoch + 1, n_epochs, accuracy))\n",
    "        torch.save(ConvNet.state_dict(), 'ConvNet{}.ckpt'.format(epoch + 1))\n",
    "\n",
    "\n",
    "def task_3():\n",
    "    train_and_eval(n_epochs=5, normalization=False, use_gpu=True)\n",
    "    print(\"The result after normalization:\\n\")\n",
    "    train_and_eval(n_epochs=5, normalization=True, use_gpu=True)\n",
    "\n",
    "\n",
    "task_3()"
   ],
   "metadata": {
    "collapsed": false,
    "pycharm": {
     "name": "#%%\n"
    }
   }
  },
  {
   "cell_type": "markdown",
   "source": [
    "### Task 4: Visualizing Convolutional Weights"
   ],
   "metadata": {
    "collapsed": false,
    "pycharm": {
     "name": "#%% md\n"
    }
   }
  },
  {
   "cell_type": "markdown",
   "source": [
    "1. **Mnist Convolutional Filters Load the latest checkpoint of your model that you trained in the previous exercise and visualize 4 convolutional filters from the first layer. (1.5P)**\n",
    "2. **Alexnet Convolutional Filters Load a pretrained alexnet checkpoint and visualize 64 convolutional filters from the first layer. (1.5P)**"
   ],
   "metadata": {
    "collapsed": false,
    "pycharm": {
     "name": "#%% md\n"
    }
   }
  },
  {
   "cell_type": "code",
   "execution_count": 5,
   "outputs": [
    {
     "name": "stdout",
     "output_type": "stream",
     "text": [
      "The convolution filters of the trained ConvNet's first layer\n"
     ]
    },
    {
     "data": {
      "text/plain": "<Figure size 144x144 with 8 Axes>",
      "image/png": "[encoded data removed]"
     },
     "metadata": {
      "needs_background": "light"
     },
     "output_type": "display_data"
    },
    {
     "name": "stdout",
     "output_type": "stream",
     "text": [
      "The convolution filters of the trained AlexNet's first layer\n"
     ]
    },
    {
     "data": {
      "text/plain": "<Figure size 576x576 with 128 Axes>",
      "image/png": "[encoded data removed]"
     },
     "metadata": {
      "needs_background": "light"
     },
     "output_type": "display_data"
    }
   ],
   "source": [
    "def min_max_normalize(tensor):\n",
    "    #########################\n",
    "    #### Your Code here  ####\n",
    "    #########################\n",
    "    d = tensor.shape[0]\n",
    "    c = tensor.shape[1]\n",
    "    h = tensor.shape[2]\n",
    "    w = tensor.shape[3]\n",
    "    tensor = tensor.view(d, -1)\n",
    "    max = torch.max(tensor, 1).values.view(1, -1).t()\n",
    "    min = torch.min(tensor, 1).values.view(1, -1).t()\n",
    "    tensor = (tensor - min) / (max - min)\n",
    "    tensor = tensor.view(d, c, h, w)\n",
    "    return tensor\n",
    "\n",
    "\n",
    "def plot_list_to_grid(list_of_images, nr, nc):\n",
    "    fig = plt.figure(figsize=(nr, nc))\n",
    "    grid = ImageGrid(fig, 111, nrows_ncols=(nr, nc), axes_pad=0.1)\n",
    "    for ax, im in zip(grid, list_of_images):\n",
    "        # Iterating over the grid returns the Axes.\n",
    "        ax.imshow(im, cmap='gray')\n",
    "    plt.show()\n",
    "    plt.close()\n",
    "\n",
    "\n",
    "def task_4():\n",
    "    model = torch.load(\"ConvNet4.ckpt\")\n",
    "    conv_filter1 = model['conv1.weight']\n",
    "    # conv_filter1 = conv_filter1.permute(0, 2, 3, 1).cpu().numpy()\n",
    "    our_filters = conv_filter1[:4]\n",
    "    # our_filters = our_filters.view(4, 1, -1)\n",
    "    our_filters = min_max_normalize(our_filters).view(4, 1, 5, 5).permute(0, 2, 3, 1).cpu().numpy()\n",
    "    print(\"The convolution filters of the trained ConvNet's first layer\")\n",
    "    plot_list_to_grid(our_filters, 2, 2)\n",
    "\n",
    "    alexnet = torchvision.models.alexnet(pretrained=True)\n",
    "    alexnet_filters = alexnet.features[0].weight.data\n",
    "    alexnet_filters = min_max_normalize(alexnet_filters).permute(0, 2, 3, 1).cpu().numpy()\n",
    "    print(\"The convolution filters of the trained AlexNet's first layer\")\n",
    "    plot_list_to_grid(alexnet_filters, 8, 8)\n",
    "    pass\n",
    "\n",
    "task_4()"
   ],
   "metadata": {
    "collapsed": false,
    "pycharm": {
     "name": "#%%\n"
    }
   }
  },
  {
   "cell_type": "code",
   "execution_count": null,
   "outputs": [],
   "source": [],
   "metadata": {
    "collapsed": false,
    "pycharm": {
     "name": "#%%\n"
    }
   }
  }
 ],
 "metadata": {
  "kernelspec": {
   "display_name": "Python 3",
   "language": "python",
   "name": "python3"
  },
  "language_info": {
   "codemirror_mode": {
    "name": "ipython",
    "version": 2
   },
   "file_extension": ".py",
   "mimetype": "text/x-python",
   "name": "python",
   "nbconvert_exporter": "python",
   "pygments_lexer": "ipython2",
   "version": "2.7.6"
  }
 },
 "nbformat": 4,
 "nbformat_minor": 0
}